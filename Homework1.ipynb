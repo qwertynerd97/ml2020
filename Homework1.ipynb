{
  "nbformat": 4,
  "nbformat_minor": 0,
  "metadata": {
    "colab": {
      "name": "Homework1.ipynb",
      "provenance": [],
      "collapsed_sections": [],
      "authorship_tag": "ABX9TyN+T721KnIrn9+7Qp8jtyDv",
      "include_colab_link": true
    },
    "kernelspec": {
      "name": "python3",
      "display_name": "Python 3"
    }
  },
  "cells": [
    {
      "cell_type": "markdown",
      "metadata": {
        "id": "view-in-github",
        "colab_type": "text"
      },
      "source": [
        "<a href=\"https://colab.research.google.com/github/qwertynerd97/ml2020/blob/master/Homework1.ipynb\" target=\"_parent\"><img src=\"https://colab.research.google.com/assets/colab-badge.svg\" alt=\"Open In Colab\"/></a>"
      ]
    },
    {
      "cell_type": "code",
      "metadata": {
        "id": "NRVnDx_FCWjA",
        "colab_type": "code",
        "colab": {}
      },
      "source": [
        "import numpy"
      ],
      "execution_count": 0,
      "outputs": []
    },
    {
      "cell_type": "markdown",
      "metadata": {
        "id": "W4pmrGYGIV9Y",
        "colab_type": "text"
      },
      "source": [
        "# Multiply Matricies\n",
        "Multiplies an array of numpy matricies, in order\n",
        "\n",
        "Will throw an error if any two matricies are incompatable; incompatability is defined by the following:\n",
        "\n",
        "$matrix\\_product = \\left[\n",
        "    \\begin{array}{cccc}\n",
        "    a_1...a_{k_1}\\\\\n",
        "    \\vdots\\\\\n",
        "    n_1...n_{k_1}\n",
        "    \\end{array}\n",
        "  \\right]\n",
        "  \\cdot\n",
        "  \\left[\n",
        "    \\begin{array}{c}\n",
        "      b_1...b_m\\\\\n",
        "      \\vdots\\\\\n",
        "      k_{2_1}...k_m\n",
        "    \\end{array}\n",
        "  \\right]$\n",
        "\n",
        "$unless\\ k_1 \\neq k_2$\n",
        "\n",
        "where $k_1=$ the number of columns in matrix 1\n",
        "\n",
        "and $k_2=$ the number of rows in matrix 2"
      ]
    },
    {
      "cell_type": "code",
      "metadata": {
        "id": "RnyC88AmBmvU",
        "colab_type": "code",
        "colab": {}
      },
      "source": [
        "def multiply_matricies(list):\n",
        "  if(list[0].ndim != 2):\n",
        "    raise Exception('Invalid format: Array at index {} is not a matrix'.format(0))\n",
        "\n",
        "  prod = list[0]\n",
        "  for index, matrix in enumerate(list[1:]):\n",
        "    if(matrix.ndim != 2):\n",
        "      raise Exception('Invalid format: Array at index {} is not a matrix'.format(index+1))\n",
        "\n",
        "    (n, k1) = prod.shape\n",
        "    (k2, m) = matrix.shape\n",
        "    \n",
        "    if k1 != k2:\n",
        "      raise Exception('Incompatible matricies: Matrix at index {} with rows {} cannot be multiplied by previous product with columns {}'.format(index+1,k2,k1)) \n",
        "    \n",
        "    prod = numpy.matmul(prod, matrix)\n",
        "  \n",
        "  return prod"
      ],
      "execution_count": 0,
      "outputs": []
    },
    {
      "cell_type": "markdown",
      "metadata": {
        "id": "CcV_NC8caMR2",
        "colab_type": "text"
      },
      "source": [
        "# A few examples of the code"
      ]
    },
    {
      "cell_type": "code",
      "metadata": {
        "id": "S2m6zaUiB1-u",
        "colab_type": "code",
        "colab": {
          "base_uri": "https://localhost:8080/",
          "height": 34
        },
        "outputId": "73135a40-697c-45d4-d13f-e5b6072d9c01"
      },
      "source": [
        "array1 = numpy.array([[1,2,3]])\n",
        "array2 = numpy.array([[3], \n",
        "                      [3],\n",
        "                      [3]])\n",
        "# This one runs sucessfully and prints out a matrix of [[18]]\n",
        "print(multiply_matricies([array1, array2]))\n",
        "\n",
        "# This one fails, and informs the user that there is an incompatability at index 2\n",
        "#print(multiply_matricies([array1, array2, array2]))\n",
        "\n",
        "notMatrix = numpy.array([1,2,3])\n",
        "# This one fails and informs the user that index 1 is not a matrix\n",
        "#print(multiply_matricies([array1, notMatrix]))"
      ],
      "execution_count": 6,
      "outputs": [
        {
          "output_type": "stream",
          "text": [
            "[[18]]\n"
          ],
          "name": "stdout"
        }
      ]
    }
  ]
}