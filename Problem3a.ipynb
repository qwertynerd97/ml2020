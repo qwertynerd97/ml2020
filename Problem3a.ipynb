{
  "nbformat": 4,
  "nbformat_minor": 0,
  "metadata": {
    "colab": {
      "name": "Problem3a.ipynb",
      "provenance": [],
      "include_colab_link": true
    },
    "kernelspec": {
      "name": "python3",
      "display_name": "Python 3"
    },
    "accelerator": "GPU"
  },
  "cells": [
    {
      "cell_type": "markdown",
      "metadata": {
        "id": "view-in-github",
        "colab_type": "text"
      },
      "source": [
        "<a href=\"https://colab.research.google.com/github/qwertynerd97/ml2020/blob/master/Problem3a.ipynb\" target=\"_parent\"><img src=\"https://colab.research.google.com/assets/colab-badge.svg\" alt=\"Open In Colab\"/></a>"
      ]
    },
    {
      "cell_type": "markdown",
      "metadata": {
        "id": "g4untSPN4Rc1",
        "colab_type": "text"
      },
      "source": [
        "#Problem 3 a\n",
        "I modified the notebook to use the Xception model instead of VGG16, and"
      ]
    },
    {
      "cell_type": "markdown",
      "metadata": {
        "id": "t3I1jd7cKV6_",
        "colab_type": "text"
      },
      "source": [
        "Download the example data, a zip. of 2,000 JPG pictures of cats and dogs and extract it locally in ```/tmp```.\n",
        "\n"
      ]
    },
    {
      "cell_type": "code",
      "metadata": {
        "id": "JWjprHEXJ5Qi",
        "colab_type": "code",
        "colab": {
          "base_uri": "https://localhost:8080/",
          "height": 204
        },
        "outputId": "4ebca8a2-6067-4cef-d6b3-dba561cad17c"
      },
      "source": [
        "!wget --no-check-certificate \\\n",
        "    https://storage.googleapis.com/mledu-datasets/cats_and_dogs_filtered.zip \\\n",
        "    -O /tmp/cats_and_dogs_filtered.zip"
      ],
      "execution_count": 16,
      "outputs": [
        {
          "output_type": "stream",
          "text": [
            "--2020-04-18 20:40:10--  https://storage.googleapis.com/mledu-datasets/cats_and_dogs_filtered.zip\n",
            "Resolving storage.googleapis.com (storage.googleapis.com)... 108.177.126.128, 2a00:1450:4013:c01::80\n",
            "Connecting to storage.googleapis.com (storage.googleapis.com)|108.177.126.128|:443... connected.\n",
            "HTTP request sent, awaiting response... 200 OK\n",
            "Length: 68606236 (65M) [application/zip]\n",
            "Saving to: ‘/tmp/cats_and_dogs_filtered.zip’\n",
            "\n",
            "\r          /tmp/cats   0%[                    ]       0  --.-KB/s               \r         /tmp/cats_  89%[================>   ]  58.25M   291MB/s               \r/tmp/cats_and_dogs_ 100%[===================>]  65.43M   305MB/s    in 0.2s    \n",
            "\n",
            "2020-04-18 20:40:11 (305 MB/s) - ‘/tmp/cats_and_dogs_filtered.zip’ saved [68606236/68606236]\n",
            "\n"
          ],
          "name": "stdout"
        }
      ]
    },
    {
      "cell_type": "code",
      "metadata": {
        "id": "WvoHtdA-K6Rw",
        "colab_type": "code",
        "colab": {}
      },
      "source": [
        "import os\n",
        "import zipfile\n",
        "\n",
        "local_zip = '/tmp/cats_and_dogs_filtered.zip'\n",
        "zip_ref = zipfile.ZipFile(local_zip, 'r')\n",
        "zip_ref.extractall('/tmp')\n",
        "zip_ref.close()"
      ],
      "execution_count": 0,
      "outputs": []
    },
    {
      "cell_type": "markdown",
      "metadata": {
        "id": "shZiOBnJMyy_",
        "colab_type": "text"
      },
      "source": [
        "Note that the data provided by Google does not have a test set."
      ]
    },
    {
      "cell_type": "code",
      "metadata": {
        "id": "dL8ikM89LlsH",
        "colab_type": "code",
        "colab": {}
      },
      "source": [
        "base_dir = '/tmp/cats_and_dogs_filtered'\n",
        "train_dir = os.path.join(base_dir, 'train')\n",
        "validation_dir = os.path.join(base_dir, 'validation')\n",
        "\n",
        "# Directory with our training cat pictures\n",
        "train_cats_dir = os.path.join(train_dir, 'cats')\n",
        "\n",
        "# Directory with our training dog pictures\n",
        "train_dogs_dir = os.path.join(train_dir, 'dogs')\n",
        "\n",
        "# Directory with our validation cat pictures\n",
        "validation_cats_dir = os.path.join(validation_dir, 'cats')\n",
        "\n",
        "# Directory with our validation dog pictures\n",
        "validation_dogs_dir = os.path.join(validation_dir, 'dogs')"
      ],
      "execution_count": 0,
      "outputs": []
    },
    {
      "cell_type": "markdown",
      "metadata": {
        "id": "inyP8bcdXnn-",
        "colab_type": "text"
      },
      "source": [
        "Build network with Xception convolution base and custom densely connected layers"
      ]
    },
    {
      "cell_type": "code",
      "metadata": {
        "id": "Y0FgtANCXm_H",
        "colab_type": "code",
        "colab": {}
      },
      "source": [
        "from keras.applications import Xception\n",
        "\n",
        "conv_base = Xception(\n",
        "    weights='imagenet', \n",
        "    include_top=False, \n",
        "    input_shape=(150, 150, 3))\n",
        "conv_base.trainable = False"
      ],
      "execution_count": 0,
      "outputs": []
    },
    {
      "cell_type": "markdown",
      "metadata": {
        "id": "Qfx6PqhPrb7Q",
        "colab_type": "text"
      },
      "source": [
        "Concatenate the convolutional base and densely connected layers"
      ]
    },
    {
      "cell_type": "code",
      "metadata": {
        "id": "qUpmocDAO3xm",
        "colab_type": "code",
        "colab": {}
      },
      "source": [
        "from keras import layers\n",
        "from keras import models\n",
        "from keras import optimizers\n",
        "\n",
        "model = models.Sequential()\n",
        "model.add(conv_base)\n",
        "model.add(layers.Flatten())\n",
        "model.add(layers.Dense(256, activation='relu'))\n",
        "#model.add(layers.Dropout(0.1))\n",
        "model.add(layers.Dense(1, activation='sigmoid'))"
      ],
      "execution_count": 0,
      "outputs": []
    },
    {
      "cell_type": "code",
      "metadata": {
        "id": "Fh6gZSeAjF7c",
        "colab_type": "code",
        "outputId": "35995576-dd55-4272-c900-9d10c1990fed",
        "colab": {
          "base_uri": "https://localhost:8080/",
          "height": 289
        }
      },
      "source": [
        "model.summary()"
      ],
      "execution_count": 21,
      "outputs": [
        {
          "output_type": "stream",
          "text": [
            "Model: \"sequential_2\"\n",
            "_________________________________________________________________\n",
            "Layer (type)                 Output Shape              Param #   \n",
            "=================================================================\n",
            "xception (Model)             (None, 5, 5, 2048)        20861480  \n",
            "_________________________________________________________________\n",
            "flatten_2 (Flatten)          (None, 51200)             0         \n",
            "_________________________________________________________________\n",
            "dense_3 (Dense)              (None, 256)               13107456  \n",
            "_________________________________________________________________\n",
            "dense_4 (Dense)              (None, 1)                 257       \n",
            "=================================================================\n",
            "Total params: 33,969,193\n",
            "Trainable params: 13,107,713\n",
            "Non-trainable params: 20,861,480\n",
            "_________________________________________________________________\n"
          ],
          "name": "stdout"
        }
      ]
    },
    {
      "cell_type": "markdown",
      "metadata": {
        "id": "eZjBiddhi5Qj",
        "colab_type": "text"
      },
      "source": [
        "Train the model end to end with frozen convolutional base"
      ]
    },
    {
      "cell_type": "code",
      "metadata": {
        "id": "tfAQlC2Oi41L",
        "colab_type": "code",
        "outputId": "276354a8-ec84-49f0-e5e0-93a2910af5d7",
        "colab": {
          "base_uri": "https://localhost:8080/",
          "height": 1000
        }
      },
      "source": [
        "from keras.preprocessing.image import ImageDataGenerator\n",
        "from keras import optimizers\n",
        "\n",
        "# data augmentation\n",
        "\n",
        "train_datagen = ImageDataGenerator(\n",
        "    rescale=1./255, \n",
        "    rotation_range=40,\n",
        "    width_shift_range=0.2,\n",
        "    height_shift_range=0.2,\n",
        "    shear_range=0.2,\n",
        "    zoom_range=0.2,\n",
        "    horizontal_flip=True,\n",
        "    fill_mode='nearest'\n",
        ")\n",
        "\n",
        "train_generator = train_datagen.flow_from_directory(\n",
        "    train_dir,\n",
        "    target_size=(150, 150),\n",
        "    batch_size=20,\n",
        "    class_mode='binary')\n",
        "\n",
        "validation_datagen = ImageDataGenerator(rescale=1./255)\n",
        "\n",
        "validation_generator = validation_datagen.flow_from_directory(\n",
        "    validation_dir,\n",
        "    target_size=(150, 150),\n",
        "    batch_size=20,\n",
        "    class_mode='binary')\n",
        "\n",
        "# compile model\n",
        "\n",
        "model.compile(\n",
        "    loss='binary_crossentropy', \n",
        "    optimizer=optimizers.RMSprop(lr=2e-5), \n",
        "    metrics=['acc'])\n",
        "\n",
        "# train\n",
        "\n",
        "history = model.fit_generator(\n",
        "    train_generator,\n",
        "    steps_per_epoch=100,\n",
        "    epochs=30,\n",
        "    validation_data=validation_generator,\n",
        "    validation_steps=50\n",
        ")"
      ],
      "execution_count": 22,
      "outputs": [
        {
          "output_type": "stream",
          "text": [
            "Found 2000 images belonging to 2 classes.\n",
            "Found 1000 images belonging to 2 classes.\n",
            "Epoch 1/30\n",
            "100/100 [==============================] - 20s 197ms/step - loss: 0.4606 - acc: 0.7745 - val_loss: 0.1117 - val_acc: 0.9610\n",
            "Epoch 2/30\n",
            "100/100 [==============================] - 17s 169ms/step - loss: 0.3573 - acc: 0.8370 - val_loss: 2.9297e-04 - val_acc: 0.9540\n",
            "Epoch 3/30\n",
            "100/100 [==============================] - 17s 168ms/step - loss: 0.3612 - acc: 0.8335 - val_loss: 0.3066 - val_acc: 0.9670\n",
            "Epoch 4/30\n",
            "100/100 [==============================] - 17s 167ms/step - loss: 0.3419 - acc: 0.8435 - val_loss: 0.0594 - val_acc: 0.9730\n",
            "Epoch 5/30\n",
            "100/100 [==============================] - 17s 168ms/step - loss: 0.3424 - acc: 0.8500 - val_loss: 0.0016 - val_acc: 0.9660\n",
            "Epoch 6/30\n",
            "100/100 [==============================] - 17s 168ms/step - loss: 0.3092 - acc: 0.8690 - val_loss: 0.0016 - val_acc: 0.9710\n",
            "Epoch 7/30\n",
            "100/100 [==============================] - 17s 167ms/step - loss: 0.3190 - acc: 0.8575 - val_loss: 0.4659 - val_acc: 0.9780\n",
            "Epoch 8/30\n",
            "100/100 [==============================] - 17s 170ms/step - loss: 0.3054 - acc: 0.8650 - val_loss: 0.1715 - val_acc: 0.9700\n",
            "Epoch 9/30\n",
            "100/100 [==============================] - 17s 168ms/step - loss: 0.2897 - acc: 0.8680 - val_loss: 0.0051 - val_acc: 0.9620\n",
            "Epoch 10/30\n",
            "100/100 [==============================] - 17s 167ms/step - loss: 0.3086 - acc: 0.8635 - val_loss: 0.7001 - val_acc: 0.9680\n",
            "Epoch 11/30\n",
            "100/100 [==============================] - 17s 167ms/step - loss: 0.3053 - acc: 0.8600 - val_loss: 0.1083 - val_acc: 0.9660\n",
            "Epoch 12/30\n",
            "100/100 [==============================] - 17s 169ms/step - loss: 0.2621 - acc: 0.8890 - val_loss: 0.2721 - val_acc: 0.9580\n",
            "Epoch 13/30\n",
            "100/100 [==============================] - 17s 167ms/step - loss: 0.3071 - acc: 0.8690 - val_loss: 0.3583 - val_acc: 0.9700\n",
            "Epoch 14/30\n",
            "100/100 [==============================] - 17s 167ms/step - loss: 0.3085 - acc: 0.8685 - val_loss: 2.9525e-04 - val_acc: 0.9730\n",
            "Epoch 15/30\n",
            "100/100 [==============================] - 17s 168ms/step - loss: 0.2750 - acc: 0.8840 - val_loss: 0.0069 - val_acc: 0.9710\n",
            "Epoch 16/30\n",
            "100/100 [==============================] - 17s 167ms/step - loss: 0.2705 - acc: 0.8800 - val_loss: 0.4259 - val_acc: 0.9640\n",
            "Epoch 17/30\n",
            "100/100 [==============================] - 17s 169ms/step - loss: 0.2963 - acc: 0.8755 - val_loss: 4.4825e-05 - val_acc: 0.9740\n",
            "Epoch 18/30\n",
            "100/100 [==============================] - 17s 169ms/step - loss: 0.2579 - acc: 0.8915 - val_loss: 9.0999e-08 - val_acc: 0.9690\n",
            "Epoch 19/30\n",
            "100/100 [==============================] - 17s 168ms/step - loss: 0.2935 - acc: 0.8775 - val_loss: 0.4458 - val_acc: 0.9730\n",
            "Epoch 20/30\n",
            "100/100 [==============================] - 17s 168ms/step - loss: 0.2748 - acc: 0.8730 - val_loss: 0.5224 - val_acc: 0.9710\n",
            "Epoch 21/30\n",
            "100/100 [==============================] - 17s 167ms/step - loss: 0.2746 - acc: 0.8795 - val_loss: 0.3682 - val_acc: 0.9740\n",
            "Epoch 22/30\n",
            "100/100 [==============================] - 17s 168ms/step - loss: 0.2576 - acc: 0.8860 - val_loss: 4.2363e-04 - val_acc: 0.9710\n",
            "Epoch 23/30\n",
            "100/100 [==============================] - 17s 167ms/step - loss: 0.2704 - acc: 0.8890 - val_loss: 0.2980 - val_acc: 0.9640\n",
            "Epoch 24/30\n",
            "100/100 [==============================] - 17s 167ms/step - loss: 0.2709 - acc: 0.8900 - val_loss: 0.7162 - val_acc: 0.9690\n",
            "Epoch 25/30\n",
            "100/100 [==============================] - 17s 166ms/step - loss: 0.2550 - acc: 0.8930 - val_loss: 0.0787 - val_acc: 0.9730\n",
            "Epoch 26/30\n",
            "100/100 [==============================] - 17s 167ms/step - loss: 0.2582 - acc: 0.8920 - val_loss: 0.1551 - val_acc: 0.9720\n",
            "Epoch 27/30\n",
            "100/100 [==============================] - 17s 169ms/step - loss: 0.2772 - acc: 0.8785 - val_loss: 0.0022 - val_acc: 0.9710\n",
            "Epoch 28/30\n",
            "100/100 [==============================] - 17s 166ms/step - loss: 0.2596 - acc: 0.8875 - val_loss: 0.3361 - val_acc: 0.9720\n",
            "Epoch 29/30\n",
            "100/100 [==============================] - 17s 166ms/step - loss: 0.2552 - acc: 0.8895 - val_loss: 0.0148 - val_acc: 0.9720\n",
            "Epoch 30/30\n",
            "100/100 [==============================] - 17s 166ms/step - loss: 0.2796 - acc: 0.8840 - val_loss: 0.6771 - val_acc: 0.9670\n"
          ],
          "name": "stdout"
        }
      ]
    },
    {
      "cell_type": "markdown",
      "metadata": {
        "id": "xqRc_vHKc92U",
        "colab_type": "text"
      },
      "source": [
        "## Display curves of loss and accuracy during training"
      ]
    },
    {
      "cell_type": "code",
      "metadata": {
        "id": "ybWwdzz9bwuQ",
        "colab_type": "code",
        "outputId": "506cdc57-926e-498e-e755-6f39af2f90f2",
        "colab": {
          "base_uri": "https://localhost:8080/",
          "height": 545
        }
      },
      "source": [
        "%matplotlib inline\n",
        "\n",
        "import matplotlib.pyplot as plt\n",
        "\n",
        "acc = history.history['acc']\n",
        "val_acc = history.history['val_acc']\n",
        "\n",
        "loss = history.history['loss']\n",
        "val_loss = history.history['val_loss']\n",
        "\n",
        "epochs = range(1, len(acc) + 1)\n",
        "\n",
        "# training and validation accuracy\n",
        "\n",
        "plt.plot(epochs, acc, 'bo', label='training acc')\n",
        "plt.plot(epochs, val_acc, 'b', label='validation acc')\n",
        "plt.title('training and validation accuracy')\n",
        "plt.legend()\n",
        "\n",
        "plt.figure()\n",
        "\n",
        "# training and validation loss\n",
        "\n",
        "plt.plot(epochs, loss, 'bo', label='training loss')\n",
        "plt.plot(epochs, val_loss, 'b', label='validation loss')\n",
        "plt.title('training and validation loss')\n",
        "plt.legend()\n",
        "\n",
        "plt.show()"
      ],
      "execution_count": 23,
      "outputs": [
        {
          "output_type": "display_data",
          "data": {
            "image/png": "[encoded data removed]",
            "text/plain": [
              "<Figure size 432x288 with 1 Axes>"
            ]
          },
          "metadata": {
            "tags": [],
            "needs_background": "light"
          }
        },
        {
          "output_type": "display_data",
          "data": {
            "image/png": "[encoded data removed]",
            "text/plain": [
              "<Figure size 432x288 with 1 Axes>"
            ]
          },
          "metadata": {
            "tags": [],
            "needs_background": "light"
          }
        }
      ]
    },
    {
      "cell_type": "markdown",
      "metadata": {
        "id": "lOWsxpey8lN0",
        "colab_type": "text"
      },
      "source": [
        "## Fine-tuning"
      ]
    },
    {
      "cell_type": "code",
      "metadata": {
        "id": "PwkVMx8N8qMw",
        "colab_type": "code",
        "colab": {}
      },
      "source": [
        "conv_base.trainable = True\n",
        "\n",
        "set_trainable = False\n",
        "for layer in conv_base.layers:\n",
        "  if layer.name == 'block5_conv1':\n",
        "    set_trainable = True\n",
        "  if set_trainable:\n",
        "    layer.trainable = True\n",
        "  else:\n",
        "    layer.trainable = False"
      ],
      "execution_count": 0,
      "outputs": []
    },
    {
      "cell_type": "code",
      "metadata": {
        "id": "DyN-J7rs9cvo",
        "colab_type": "code",
        "outputId": "66ad325a-f5d4-479a-b238-b74fce6b3b33",
        "colab": {
          "base_uri": "https://localhost:8080/",
          "height": 1000
        }
      },
      "source": [
        "# compile model\n",
        "\n",
        "model.compile(\n",
        "    loss='binary_crossentropy',\n",
        "    #\n",
        "    # choose a smaller learning rate\n",
        "    #\n",
        "    optimizer=optimizers.RMSprop(lr=1e-5), \n",
        "    metrics=['acc'])\n",
        "\n",
        "# train\n",
        "\n",
        "history = model.fit_generator(\n",
        "    train_generator,\n",
        "    steps_per_epoch=100,\n",
        "    epochs=100,\n",
        "    validation_data=validation_generator,\n",
        "    validation_steps=50)"
      ],
      "execution_count": 25,
      "outputs": [
        {
          "output_type": "stream",
          "text": [
            "Epoch 1/100\n",
            "100/100 [==============================] - 20s 200ms/step - loss: 0.2397 - acc: 0.8980 - val_loss: 0.1249 - val_acc: 0.9520\n",
            "Epoch 2/100\n",
            "100/100 [==============================] - 17s 168ms/step - loss: 0.2427 - acc: 0.8915 - val_loss: 0.2336 - val_acc: 0.9330\n",
            "Epoch 3/100\n",
            "100/100 [==============================] - 17s 167ms/step - loss: 0.2194 - acc: 0.9065 - val_loss: 0.0440 - val_acc: 0.9420\n",
            "Epoch 4/100\n",
            "100/100 [==============================] - 17s 169ms/step - loss: 0.2427 - acc: 0.9030 - val_loss: 0.0638 - val_acc: 0.9460\n",
            "Epoch 5/100\n",
            "100/100 [==============================] - 17s 168ms/step - loss: 0.2541 - acc: 0.8960 - val_loss: 0.1218 - val_acc: 0.9180\n",
            "Epoch 6/100\n",
            "100/100 [==============================] - 17s 169ms/step - loss: 0.2491 - acc: 0.8950 - val_loss: 0.1445 - val_acc: 0.9340\n",
            "Epoch 7/100\n",
            "100/100 [==============================] - 17s 170ms/step - loss: 0.2144 - acc: 0.9120 - val_loss: 0.0515 - val_acc: 0.9330\n",
            "Epoch 8/100\n",
            "100/100 [==============================] - 17s 168ms/step - loss: 0.2588 - acc: 0.8875 - val_loss: 0.0425 - val_acc: 0.9290\n",
            "Epoch 9/100\n",
            "100/100 [==============================] - 17s 168ms/step - loss: 0.2380 - acc: 0.8950 - val_loss: 0.5767 - val_acc: 0.9330\n",
            "Epoch 10/100\n",
            "100/100 [==============================] - 17s 169ms/step - loss: 0.2308 - acc: 0.9045 - val_loss: 0.2038 - val_acc: 0.9380\n",
            "Epoch 11/100\n",
            "100/100 [==============================] - 17s 169ms/step - loss: 0.2429 - acc: 0.9000 - val_loss: 0.1089 - val_acc: 0.9400\n",
            "Epoch 12/100\n",
            "100/100 [==============================] - 17s 168ms/step - loss: 0.2262 - acc: 0.9070 - val_loss: 0.2179 - val_acc: 0.9390\n",
            "Epoch 13/100\n",
            "100/100 [==============================] - 17s 168ms/step - loss: 0.2347 - acc: 0.9080 - val_loss: 0.0823 - val_acc: 0.9320\n",
            "Epoch 14/100\n",
            "100/100 [==============================] - 17s 169ms/step - loss: 0.2265 - acc: 0.9045 - val_loss: 0.4920 - val_acc: 0.9140\n",
            "Epoch 15/100\n",
            "100/100 [==============================] - 17s 171ms/step - loss: 0.2391 - acc: 0.9015 - val_loss: 0.0682 - val_acc: 0.9370\n",
            "Epoch 16/100\n",
            "100/100 [==============================] - 17s 169ms/step - loss: 0.2434 - acc: 0.9120 - val_loss: 0.1300 - val_acc: 0.9340\n",
            "Epoch 17/100\n",
            "100/100 [==============================] - 17s 168ms/step - loss: 0.2375 - acc: 0.9020 - val_loss: 0.0581 - val_acc: 0.9370\n",
            "Epoch 18/100\n",
            "100/100 [==============================] - 17s 168ms/step - loss: 0.2113 - acc: 0.9130 - val_loss: 0.4905 - val_acc: 0.9340\n",
            "Epoch 19/100\n",
            "100/100 [==============================] - 17s 167ms/step - loss: 0.2379 - acc: 0.9000 - val_loss: 0.3739 - val_acc: 0.9380\n",
            "Epoch 20/100\n",
            "100/100 [==============================] - 17s 169ms/step - loss: 0.2418 - acc: 0.9070 - val_loss: 0.1331 - val_acc: 0.9400\n",
            "Epoch 21/100\n",
            "100/100 [==============================] - 17s 168ms/step - loss: 0.2339 - acc: 0.9020 - val_loss: 0.0532 - val_acc: 0.9380\n",
            "Epoch 22/100\n",
            "100/100 [==============================] - 17s 168ms/step - loss: 0.2180 - acc: 0.9155 - val_loss: 0.0623 - val_acc: 0.9310\n",
            "Epoch 23/100\n",
            "100/100 [==============================] - 17s 167ms/step - loss: 0.2145 - acc: 0.9125 - val_loss: 0.3064 - val_acc: 0.9310\n",
            "Epoch 24/100\n",
            "100/100 [==============================] - 17s 169ms/step - loss: 0.2341 - acc: 0.8950 - val_loss: 0.1865 - val_acc: 0.9300\n",
            "Epoch 25/100\n",
            "100/100 [==============================] - 17s 169ms/step - loss: 0.2195 - acc: 0.9130 - val_loss: 0.0393 - val_acc: 0.9400\n",
            "Epoch 26/100\n",
            "100/100 [==============================] - 17s 168ms/step - loss: 0.2365 - acc: 0.8965 - val_loss: 0.3054 - val_acc: 0.9420\n",
            "Epoch 27/100\n",
            "100/100 [==============================] - 17s 168ms/step - loss: 0.2037 - acc: 0.9165 - val_loss: 0.1052 - val_acc: 0.9410\n",
            "Epoch 28/100\n",
            "100/100 [==============================] - 17s 168ms/step - loss: 0.2281 - acc: 0.9140 - val_loss: 0.3503 - val_acc: 0.9390\n",
            "Epoch 29/100\n",
            "100/100 [==============================] - 17s 168ms/step - loss: 0.2304 - acc: 0.9015 - val_loss: 0.0957 - val_acc: 0.9400\n",
            "Epoch 30/100\n",
            "100/100 [==============================] - 17s 170ms/step - loss: 0.2174 - acc: 0.9120 - val_loss: 0.1807 - val_acc: 0.9390\n",
            "Epoch 31/100\n",
            "100/100 [==============================] - 17s 168ms/step - loss: 0.2309 - acc: 0.9115 - val_loss: 0.1089 - val_acc: 0.9370\n",
            "Epoch 32/100\n",
            "100/100 [==============================] - 17s 167ms/step - loss: 0.2074 - acc: 0.9165 - val_loss: 0.1394 - val_acc: 0.9200\n",
            "Epoch 33/100\n",
            "100/100 [==============================] - 17s 170ms/step - loss: 0.2287 - acc: 0.9095 - val_loss: 0.3466 - val_acc: 0.9370\n",
            "Epoch 34/100\n",
            "100/100 [==============================] - 17s 169ms/step - loss: 0.2383 - acc: 0.9040 - val_loss: 0.2493 - val_acc: 0.9340\n",
            "Epoch 35/100\n",
            "100/100 [==============================] - 17s 169ms/step - loss: 0.2283 - acc: 0.9150 - val_loss: 0.0481 - val_acc: 0.9400\n",
            "Epoch 36/100\n",
            "100/100 [==============================] - 17s 168ms/step - loss: 0.2262 - acc: 0.9145 - val_loss: 0.2547 - val_acc: 0.9380\n",
            "Epoch 37/100\n",
            "100/100 [==============================] - 17s 169ms/step - loss: 0.2075 - acc: 0.9200 - val_loss: 0.5127 - val_acc: 0.9410\n",
            "Epoch 38/100\n",
            "100/100 [==============================] - 17s 168ms/step - loss: 0.2357 - acc: 0.9045 - val_loss: 0.1572 - val_acc: 0.9320\n",
            "Epoch 39/100\n",
            "100/100 [==============================] - 17s 169ms/step - loss: 0.2134 - acc: 0.9210 - val_loss: 0.1275 - val_acc: 0.9390\n",
            "Epoch 40/100\n",
            "100/100 [==============================] - 17s 170ms/step - loss: 0.2236 - acc: 0.9065 - val_loss: 0.4353 - val_acc: 0.9340\n",
            "Epoch 41/100\n",
            "100/100 [==============================] - 17s 169ms/step - loss: 0.2256 - acc: 0.9145 - val_loss: 0.1766 - val_acc: 0.9260\n",
            "Epoch 42/100\n",
            "100/100 [==============================] - 17s 168ms/step - loss: 0.2091 - acc: 0.9210 - val_loss: 0.1317 - val_acc: 0.9330\n",
            "Epoch 43/100\n",
            "100/100 [==============================] - 17s 168ms/step - loss: 0.2156 - acc: 0.9105 - val_loss: 0.1654 - val_acc: 0.9270\n",
            "Epoch 44/100\n",
            "100/100 [==============================] - 17s 169ms/step - loss: 0.2316 - acc: 0.9040 - val_loss: 0.1089 - val_acc: 0.9300\n",
            "Epoch 45/100\n",
            "100/100 [==============================] - 17s 168ms/step - loss: 0.2228 - acc: 0.9090 - val_loss: 0.3661 - val_acc: 0.9350\n",
            "Epoch 46/100\n",
            "100/100 [==============================] - 17s 167ms/step - loss: 0.2088 - acc: 0.9140 - val_loss: 0.0883 - val_acc: 0.9300\n",
            "Epoch 47/100\n",
            "100/100 [==============================] - 17s 168ms/step - loss: 0.2041 - acc: 0.9135 - val_loss: 0.7519 - val_acc: 0.9060\n",
            "Epoch 48/100\n",
            "100/100 [==============================] - 17s 167ms/step - loss: 0.2016 - acc: 0.9265 - val_loss: 0.4374 - val_acc: 0.9320\n",
            "Epoch 49/100\n",
            "100/100 [==============================] - 17s 169ms/step - loss: 0.2426 - acc: 0.9100 - val_loss: 0.1026 - val_acc: 0.9240\n",
            "Epoch 50/100\n",
            "100/100 [==============================] - 17s 167ms/step - loss: 0.1917 - acc: 0.9170 - val_loss: 0.1309 - val_acc: 0.9320\n",
            "Epoch 51/100\n",
            "100/100 [==============================] - 17s 170ms/step - loss: 0.2040 - acc: 0.9175 - val_loss: 0.2017 - val_acc: 0.9280\n",
            "Epoch 52/100\n",
            "100/100 [==============================] - 17s 170ms/step - loss: 0.2221 - acc: 0.9090 - val_loss: 0.2246 - val_acc: 0.9320\n",
            "Epoch 53/100\n",
            "100/100 [==============================] - 17s 168ms/step - loss: 0.2143 - acc: 0.9165 - val_loss: 0.2010 - val_acc: 0.9330\n",
            "Epoch 54/100\n",
            "100/100 [==============================] - 17s 170ms/step - loss: 0.2090 - acc: 0.9160 - val_loss: 0.0763 - val_acc: 0.9350\n",
            "Epoch 55/100\n",
            "100/100 [==============================] - 17s 169ms/step - loss: 0.1895 - acc: 0.9240 - val_loss: 0.1130 - val_acc: 0.9380\n",
            "Epoch 56/100\n",
            "100/100 [==============================] - 17s 168ms/step - loss: 0.2272 - acc: 0.9095 - val_loss: 0.3292 - val_acc: 0.9280\n",
            "Epoch 57/100\n",
            "100/100 [==============================] - 17s 169ms/step - loss: 0.1932 - acc: 0.9255 - val_loss: 0.3806 - val_acc: 0.9270\n",
            "Epoch 58/100\n",
            "100/100 [==============================] - 17s 169ms/step - loss: 0.2074 - acc: 0.9180 - val_loss: 0.0917 - val_acc: 0.9340\n",
            "Epoch 59/100\n",
            "100/100 [==============================] - 17s 169ms/step - loss: 0.1995 - acc: 0.9185 - val_loss: 0.3504 - val_acc: 0.9190\n",
            "Epoch 60/100\n",
            "100/100 [==============================] - 17s 169ms/step - loss: 0.2026 - acc: 0.9255 - val_loss: 0.0771 - val_acc: 0.9290\n",
            "Epoch 61/100\n",
            "100/100 [==============================] - 17s 168ms/step - loss: 0.1932 - acc: 0.9260 - val_loss: 0.2698 - val_acc: 0.9300\n",
            "Epoch 62/100\n",
            "100/100 [==============================] - 17s 169ms/step - loss: 0.1927 - acc: 0.9180 - val_loss: 0.0689 - val_acc: 0.9380\n",
            "Epoch 63/100\n",
            "100/100 [==============================] - 17s 170ms/step - loss: 0.2102 - acc: 0.9190 - val_loss: 0.1298 - val_acc: 0.9320\n",
            "Epoch 64/100\n",
            "100/100 [==============================] - 17s 168ms/step - loss: 0.2114 - acc: 0.9230 - val_loss: 0.3299 - val_acc: 0.9320\n",
            "Epoch 65/100\n",
            "100/100 [==============================] - 17s 167ms/step - loss: 0.1976 - acc: 0.9280 - val_loss: 0.4397 - val_acc: 0.9320\n",
            "Epoch 66/100\n",
            "100/100 [==============================] - 17s 169ms/step - loss: 0.2140 - acc: 0.9170 - val_loss: 0.1714 - val_acc: 0.9340\n",
            "Epoch 67/100\n",
            "100/100 [==============================] - 17s 168ms/step - loss: 0.2006 - acc: 0.9220 - val_loss: 0.0790 - val_acc: 0.9340\n",
            "Epoch 68/100\n",
            "100/100 [==============================] - 17s 168ms/step - loss: 0.2200 - acc: 0.9150 - val_loss: 0.3150 - val_acc: 0.9370\n",
            "Epoch 69/100\n",
            "100/100 [==============================] - 17s 168ms/step - loss: 0.1968 - acc: 0.9140 - val_loss: 0.0725 - val_acc: 0.9280\n",
            "Epoch 70/100\n",
            "100/100 [==============================] - 17s 169ms/step - loss: 0.1917 - acc: 0.9295 - val_loss: 0.3067 - val_acc: 0.9300\n",
            "Epoch 71/100\n",
            "100/100 [==============================] - 17s 168ms/step - loss: 0.2057 - acc: 0.9200 - val_loss: 0.2237 - val_acc: 0.9350\n",
            "Epoch 72/100\n",
            "100/100 [==============================] - 17s 168ms/step - loss: 0.2007 - acc: 0.9230 - val_loss: 0.1594 - val_acc: 0.9350\n",
            "Epoch 73/100\n",
            "100/100 [==============================] - 17s 169ms/step - loss: 0.2052 - acc: 0.9295 - val_loss: 0.1345 - val_acc: 0.9350\n",
            "Epoch 74/100\n",
            "100/100 [==============================] - 17s 168ms/step - loss: 0.2096 - acc: 0.9175 - val_loss: 0.0767 - val_acc: 0.9380\n",
            "Epoch 75/100\n",
            "100/100 [==============================] - 17s 168ms/step - loss: 0.1961 - acc: 0.9265 - val_loss: 0.0727 - val_acc: 0.9220\n",
            "Epoch 76/100\n",
            "100/100 [==============================] - 17s 168ms/step - loss: 0.1767 - acc: 0.9330 - val_loss: 0.1087 - val_acc: 0.9300\n",
            "Epoch 77/100\n",
            "100/100 [==============================] - 17s 168ms/step - loss: 0.1895 - acc: 0.9210 - val_loss: 0.4257 - val_acc: 0.9260\n",
            "Epoch 78/100\n",
            "100/100 [==============================] - 17s 169ms/step - loss: 0.2037 - acc: 0.9205 - val_loss: 0.0518 - val_acc: 0.9300\n",
            "Epoch 79/100\n",
            "100/100 [==============================] - 17s 169ms/step - loss: 0.1963 - acc: 0.9200 - val_loss: 0.6118 - val_acc: 0.9190\n",
            "Epoch 80/100\n",
            "100/100 [==============================] - 17s 169ms/step - loss: 0.1902 - acc: 0.9195 - val_loss: 0.0389 - val_acc: 0.9260\n",
            "Epoch 81/100\n",
            "100/100 [==============================] - 17s 169ms/step - loss: 0.2003 - acc: 0.9205 - val_loss: 0.0406 - val_acc: 0.9310\n",
            "Epoch 82/100\n",
            "100/100 [==============================] - 17s 169ms/step - loss: 0.2007 - acc: 0.9290 - val_loss: 0.0537 - val_acc: 0.9340\n",
            "Epoch 83/100\n",
            "100/100 [==============================] - 17s 169ms/step - loss: 0.1987 - acc: 0.9120 - val_loss: 0.2378 - val_acc: 0.9340\n",
            "Epoch 84/100\n",
            "100/100 [==============================] - 17s 168ms/step - loss: 0.1896 - acc: 0.9240 - val_loss: 0.0258 - val_acc: 0.9340\n",
            "Epoch 85/100\n",
            "100/100 [==============================] - 17s 168ms/step - loss: 0.1837 - acc: 0.9245 - val_loss: 0.1505 - val_acc: 0.9320\n",
            "Epoch 86/100\n",
            "100/100 [==============================] - 17s 169ms/step - loss: 0.1904 - acc: 0.9255 - val_loss: 0.3385 - val_acc: 0.9300\n",
            "Epoch 87/100\n",
            "100/100 [==============================] - 17s 169ms/step - loss: 0.2040 - acc: 0.9240 - val_loss: 0.5696 - val_acc: 0.9180\n",
            "Epoch 88/100\n",
            "100/100 [==============================] - 17s 169ms/step - loss: 0.2020 - acc: 0.9230 - val_loss: 0.0281 - val_acc: 0.9200\n",
            "Epoch 89/100\n",
            "100/100 [==============================] - 17s 170ms/step - loss: 0.2108 - acc: 0.9135 - val_loss: 0.3283 - val_acc: 0.9270\n",
            "Epoch 90/100\n",
            "100/100 [==============================] - 17s 169ms/step - loss: 0.1902 - acc: 0.9230 - val_loss: 0.7402 - val_acc: 0.9130\n",
            "Epoch 91/100\n",
            "100/100 [==============================] - 17s 168ms/step - loss: 0.1991 - acc: 0.9235 - val_loss: 0.3032 - val_acc: 0.9310\n",
            "Epoch 92/100\n",
            "100/100 [==============================] - 17s 170ms/step - loss: 0.1872 - acc: 0.9210 - val_loss: 0.2534 - val_acc: 0.9280\n",
            "Epoch 93/100\n",
            "100/100 [==============================] - 17s 169ms/step - loss: 0.1955 - acc: 0.9205 - val_loss: 0.0184 - val_acc: 0.9340\n",
            "Epoch 94/100\n",
            "100/100 [==============================] - 17s 168ms/step - loss: 0.2155 - acc: 0.9170 - val_loss: 0.2482 - val_acc: 0.9190\n",
            "Epoch 95/100\n",
            "100/100 [==============================] - 17s 169ms/step - loss: 0.1951 - acc: 0.9210 - val_loss: 0.6057 - val_acc: 0.9340\n",
            "Epoch 96/100\n",
            "100/100 [==============================] - 17s 168ms/step - loss: 0.1810 - acc: 0.9215 - val_loss: 0.2412 - val_acc: 0.9330\n",
            "Epoch 97/100\n",
            "100/100 [==============================] - 17s 170ms/step - loss: 0.2097 - acc: 0.9195 - val_loss: 0.0508 - val_acc: 0.9320\n",
            "Epoch 98/100\n",
            "100/100 [==============================] - 17s 170ms/step - loss: 0.1946 - acc: 0.9210 - val_loss: 0.1332 - val_acc: 0.9300\n",
            "Epoch 99/100\n",
            "100/100 [==============================] - 17s 168ms/step - loss: 0.1837 - acc: 0.9270 - val_loss: 0.1518 - val_acc: 0.9330\n",
            "Epoch 100/100\n",
            "100/100 [==============================] - 17s 168ms/step - loss: 0.2006 - acc: 0.9200 - val_loss: 0.5700 - val_acc: 0.9340\n"
          ],
          "name": "stdout"
        }
      ]
    },
    {
      "cell_type": "markdown",
      "metadata": {
        "id": "eVBQgh5M-Rtz",
        "colab_type": "text"
      },
      "source": [
        "## Display learning curves during fine-tuning"
      ]
    },
    {
      "cell_type": "code",
      "metadata": {
        "id": "mbkIw7Ie-NP4",
        "colab_type": "code",
        "outputId": "69c8c275-4409-4da6-e841-6a0bd0f5a94d",
        "colab": {
          "base_uri": "https://localhost:8080/",
          "height": 545
        }
      },
      "source": [
        "%matplotlib inline\n",
        "\n",
        "import matplotlib.pyplot as plt\n",
        "\n",
        "acc = history.history['acc']\n",
        "val_acc = history.history['val_acc']\n",
        "\n",
        "loss = history.history['loss']\n",
        "val_loss = history.history['val_loss']\n",
        "\n",
        "epochs = range(1, len(acc) + 1)\n",
        "\n",
        "# training and validation accuracy\n",
        "\n",
        "plt.plot(epochs, acc, 'bo', label='training acc')\n",
        "plt.plot(epochs, val_acc, 'b', label='validation acc')\n",
        "plt.title('training and validation accuracy')\n",
        "plt.legend()\n",
        "\n",
        "plt.figure()\n",
        "\n",
        "# training and validation loss\n",
        "\n",
        "plt.plot(epochs, loss, 'bo', label='training loss')\n",
        "plt.plot(epochs, val_loss, 'b', label='validation loss')\n",
        "plt.title('training and validation loss')\n",
        "plt.legend()\n",
        "\n",
        "plt.show()"
      ],
      "execution_count": 26,
      "outputs": [
        {
          "output_type": "display_data",
          "data": {
            "image/png": "[encoded data removed]",
            "text/plain": [
              "<Figure size 432x288 with 1 Axes>"
            ]
          },
          "metadata": {
            "tags": [],
            "needs_background": "light"
          }
        },
        {
          "output_type": "display_data",
          "data": {
            "image/png": "[encoded data removed]",
            "text/plain": [
              "<Figure size 432x288 with 1 Axes>"
            ]
          },
          "metadata": {
            "tags": [],
            "needs_background": "light"
          }
        }
      ]
    },
    {
      "cell_type": "markdown",
      "metadata": {
        "id": "he3Nw6TOJwjx",
        "colab_type": "text"
      },
      "source": [
        "## Print out validation loss and accuracy"
      ]
    },
    {
      "cell_type": "code",
      "metadata": {
        "id": "SVQtrk7uJdhl",
        "colab_type": "code",
        "colab": {}
      },
      "source": [
        "val_loss, val_acc = model.evaluate_generator(validation_generator, steps=50)"
      ],
      "execution_count": 0,
      "outputs": []
    },
    {
      "cell_type": "code",
      "metadata": {
        "id": "HpdddLi1SUMe",
        "colab_type": "code",
        "outputId": "7343061c-1b2f-432d-9a44-a721bdd7dbba",
        "colab": {
          "base_uri": "https://localhost:8080/",
          "height": 51
        }
      },
      "source": [
        "print(\"Validation loss:\", val_loss)\n",
        "print(\"Validation accuracy:\", val_acc)"
      ],
      "execution_count": 28,
      "outputs": [
        {
          "output_type": "stream",
          "text": [
            "Validation loss: 0.08421217650175095\n",
            "Validation accuracy: 0.9340000152587891\n"
          ],
          "name": "stdout"
        }
      ]
    }
  ]
}