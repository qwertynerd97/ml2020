{
  "nbformat": 4,
  "nbformat_minor": 0,
  "metadata": {
    "colab": {
      "name": "Problem3b.ipynb",
      "provenance": [],
      "include_colab_link": true
    },
    "kernelspec": {
      "name": "python3",
      "display_name": "Python 3"
    },
    "accelerator": "GPU"
  },
  "cells": [
    {
      "cell_type": "markdown",
      "metadata": {
        "id": "view-in-github",
        "colab_type": "text"
      },
      "source": [
        "<a href=\"https://colab.research.google.com/github/qwertynerd97/ml2020/blob/master/Problem3b.ipynb\" target=\"_parent\"><img src=\"https://colab.research.google.com/assets/colab-badge.svg\" alt=\"Open In Colab\"/></a>"
      ]
    },
    {
      "cell_type": "markdown",
      "metadata": {
        "id": "g4untSPN4Rc1",
        "colab_type": "text"
      },
      "source": [
        "#Problem 3 b\n",
        "I modified the notebook to use the Xception model instead of VGG16, and incresed the dense layers and added dropout"
      ]
    },
    {
      "cell_type": "markdown",
      "metadata": {
        "id": "t3I1jd7cKV6_",
        "colab_type": "text"
      },
      "source": [
        "Download the example data, a zip. of 2,000 JPG pictures of cats and dogs and extract it locally in ```/tmp```.\n",
        "\n"
      ]
    },
    {
      "cell_type": "code",
      "metadata": {
        "id": "JWjprHEXJ5Qi",
        "colab_type": "code",
        "outputId": "ab3dade1-a252-4dce-d04f-4cdc6d8c39ae",
        "colab": {
          "base_uri": "https://localhost:8080/",
          "height": 204
        }
      },
      "source": [
        "!wget --no-check-certificate \\\n",
        "    https://storage.googleapis.com/mledu-datasets/cats_and_dogs_filtered.zip \\\n",
        "    -O /tmp/cats_and_dogs_filtered.zip"
      ],
      "execution_count": 16,
      "outputs": [
        {
          "output_type": "stream",
          "text": [
            "--2020-04-18 22:36:11--  https://storage.googleapis.com/mledu-datasets/cats_and_dogs_filtered.zip\n",
            "Resolving storage.googleapis.com (storage.googleapis.com)... 74.125.204.128, 2404:6800:4008:c00::80\n",
            "Connecting to storage.googleapis.com (storage.googleapis.com)|74.125.204.128|:443... connected.\n",
            "HTTP request sent, awaiting response... 200 OK\n",
            "Length: 68606236 (65M) [application/zip]\n",
            "Saving to: ‘/tmp/cats_and_dogs_filtered.zip’\n",
            "\n",
            "/tmp/cats_and_dogs_ 100%[===================>]  65.43M   102MB/s    in 0.6s    \n",
            "\n",
            "2020-04-18 22:36:12 (102 MB/s) - ‘/tmp/cats_and_dogs_filtered.zip’ saved [68606236/68606236]\n",
            "\n"
          ],
          "name": "stdout"
        }
      ]
    },
    {
      "cell_type": "code",
      "metadata": {
        "id": "WvoHtdA-K6Rw",
        "colab_type": "code",
        "colab": {}
      },
      "source": [
        "import os\n",
        "import zipfile\n",
        "\n",
        "local_zip = '/tmp/cats_and_dogs_filtered.zip'\n",
        "zip_ref = zipfile.ZipFile(local_zip, 'r')\n",
        "zip_ref.extractall('/tmp')\n",
        "zip_ref.close()"
      ],
      "execution_count": 0,
      "outputs": []
    },
    {
      "cell_type": "markdown",
      "metadata": {
        "id": "shZiOBnJMyy_",
        "colab_type": "text"
      },
      "source": [
        "Note that the data provided by Google does not have a test set."
      ]
    },
    {
      "cell_type": "code",
      "metadata": {
        "id": "dL8ikM89LlsH",
        "colab_type": "code",
        "colab": {}
      },
      "source": [
        "base_dir = '/tmp/cats_and_dogs_filtered'\n",
        "train_dir = os.path.join(base_dir, 'train')\n",
        "validation_dir = os.path.join(base_dir, 'validation')\n",
        "\n",
        "# Directory with our training cat pictures\n",
        "train_cats_dir = os.path.join(train_dir, 'cats')\n",
        "\n",
        "# Directory with our training dog pictures\n",
        "train_dogs_dir = os.path.join(train_dir, 'dogs')\n",
        "\n",
        "# Directory with our validation cat pictures\n",
        "validation_cats_dir = os.path.join(validation_dir, 'cats')\n",
        "\n",
        "# Directory with our validation dog pictures\n",
        "validation_dogs_dir = os.path.join(validation_dir, 'dogs')"
      ],
      "execution_count": 0,
      "outputs": []
    },
    {
      "cell_type": "markdown",
      "metadata": {
        "id": "inyP8bcdXnn-",
        "colab_type": "text"
      },
      "source": [
        "Build network with Xception convolution base and custom densely connected layers"
      ]
    },
    {
      "cell_type": "code",
      "metadata": {
        "id": "Y0FgtANCXm_H",
        "colab_type": "code",
        "colab": {
          "base_uri": "https://localhost:8080/",
          "height": 88
        },
        "outputId": "3bef9f9d-ee24-4519-d29a-a88a736f1a5e"
      },
      "source": [
        "from keras.applications import Xception\n",
        "\n",
        "conv_base = Xception(\n",
        "    weights='imagenet', \n",
        "    include_top=False, \n",
        "    input_shape=(150, 150, 3))\n",
        "conv_base.trainable = False"
      ],
      "execution_count": 4,
      "outputs": [
        {
          "output_type": "stream",
          "text": [
            "Using TensorFlow backend.\n"
          ],
          "name": "stderr"
        },
        {
          "output_type": "stream",
          "text": [
            "Downloading data from https://github.com/fchollet/deep-learning-models/releases/download/v0.4/xception_weights_tf_dim_ordering_tf_kernels_notop.h5\n",
            "83689472/83683744 [==============================] - 8s 0us/step\n"
          ],
          "name": "stdout"
        }
      ]
    },
    {
      "cell_type": "markdown",
      "metadata": {
        "id": "Qfx6PqhPrb7Q",
        "colab_type": "text"
      },
      "source": [
        "Concatenate the convolutional base and densely connected layers"
      ]
    },
    {
      "cell_type": "code",
      "metadata": {
        "id": "qUpmocDAO3xm",
        "colab_type": "code",
        "colab": {}
      },
      "source": [
        "from keras import layers\n",
        "from keras import models\n",
        "from keras import optimizers\n",
        "\n",
        "model = models.Sequential()\n",
        "model.add(conv_base)\n",
        "model.add(layers.Flatten())\n",
        "model.add(layers.Dense(512, activation='relu'))\n",
        "model.add(layers.Dropout(0.1))\n",
        "model.add(layers.Dense(1, activation='sigmoid'))"
      ],
      "execution_count": 0,
      "outputs": []
    },
    {
      "cell_type": "code",
      "metadata": {
        "id": "Fh6gZSeAjF7c",
        "colab_type": "code",
        "outputId": "60a24192-f165-4edc-c511-9d3557976b04",
        "colab": {
          "base_uri": "https://localhost:8080/",
          "height": 323
        }
      },
      "source": [
        "model.summary()"
      ],
      "execution_count": 6,
      "outputs": [
        {
          "output_type": "stream",
          "text": [
            "Model: \"sequential_1\"\n",
            "_________________________________________________________________\n",
            "Layer (type)                 Output Shape              Param #   \n",
            "=================================================================\n",
            "xception (Model)             (None, 5, 5, 2048)        20861480  \n",
            "_________________________________________________________________\n",
            "flatten_1 (Flatten)          (None, 51200)             0         \n",
            "_________________________________________________________________\n",
            "dense_1 (Dense)              (None, 512)               26214912  \n",
            "_________________________________________________________________\n",
            "dropout_1 (Dropout)          (None, 512)               0         \n",
            "_________________________________________________________________\n",
            "dense_2 (Dense)              (None, 1)                 513       \n",
            "=================================================================\n",
            "Total params: 47,076,905\n",
            "Trainable params: 26,215,425\n",
            "Non-trainable params: 20,861,480\n",
            "_________________________________________________________________\n"
          ],
          "name": "stdout"
        }
      ]
    },
    {
      "cell_type": "markdown",
      "metadata": {
        "id": "eZjBiddhi5Qj",
        "colab_type": "text"
      },
      "source": [
        "Train the model end to end with frozen convolutional base"
      ]
    },
    {
      "cell_type": "code",
      "metadata": {
        "id": "tfAQlC2Oi41L",
        "colab_type": "code",
        "outputId": "9abe4c72-52f2-49ab-d42c-eeec09ad288c",
        "colab": {
          "base_uri": "https://localhost:8080/",
          "height": 1000
        }
      },
      "source": [
        "from keras.preprocessing.image import ImageDataGenerator\n",
        "from keras import optimizers\n",
        "\n",
        "# data augmentation\n",
        "\n",
        "train_datagen = ImageDataGenerator(\n",
        "    rescale=1./255, \n",
        "    rotation_range=40,\n",
        "    width_shift_range=0.2,\n",
        "    height_shift_range=0.2,\n",
        "    shear_range=0.2,\n",
        "    zoom_range=0.2,\n",
        "    horizontal_flip=True,\n",
        "    fill_mode='nearest'\n",
        ")\n",
        "\n",
        "train_generator = train_datagen.flow_from_directory(\n",
        "    train_dir,\n",
        "    target_size=(150, 150),\n",
        "    batch_size=20,\n",
        "    class_mode='binary')\n",
        "\n",
        "validation_datagen = ImageDataGenerator(rescale=1./255)\n",
        "\n",
        "validation_generator = validation_datagen.flow_from_directory(\n",
        "    validation_dir,\n",
        "    target_size=(150, 150),\n",
        "    batch_size=20,\n",
        "    class_mode='binary')\n",
        "\n",
        "# compile model\n",
        "\n",
        "model.compile(\n",
        "    loss='binary_crossentropy', \n",
        "    optimizer=optimizers.RMSprop(lr=2e-5), \n",
        "    metrics=['acc'])\n",
        "\n",
        "# train\n",
        "\n",
        "history = model.fit_generator(\n",
        "    train_generator,\n",
        "    steps_per_epoch=100,\n",
        "    epochs=30,\n",
        "    validation_data=validation_generator,\n",
        "    validation_steps=50\n",
        ")"
      ],
      "execution_count": 7,
      "outputs": [
        {
          "output_type": "stream",
          "text": [
            "Found 2000 images belonging to 2 classes.\n",
            "Found 1000 images belonging to 2 classes.\n",
            "Epoch 1/30\n",
            "100/100 [==============================] - 29s 288ms/step - loss: 0.4580 - acc: 0.7770 - val_loss: 0.3665 - val_acc: 0.9090\n",
            "Epoch 2/30\n",
            "100/100 [==============================] - 20s 197ms/step - loss: 0.3810 - acc: 0.8090 - val_loss: 0.0134 - val_acc: 0.9530\n",
            "Epoch 3/30\n",
            "100/100 [==============================] - 20s 196ms/step - loss: 0.3899 - acc: 0.8260 - val_loss: 0.0231 - val_acc: 0.9590\n",
            "Epoch 4/30\n",
            "100/100 [==============================] - 19s 194ms/step - loss: 0.3576 - acc: 0.8310 - val_loss: 0.3184 - val_acc: 0.9670\n",
            "Epoch 5/30\n",
            "100/100 [==============================] - 20s 197ms/step - loss: 0.3294 - acc: 0.8485 - val_loss: 0.1124 - val_acc: 0.9640\n",
            "Epoch 6/30\n",
            "100/100 [==============================] - 20s 196ms/step - loss: 0.3192 - acc: 0.8645 - val_loss: 0.0713 - val_acc: 0.9660\n",
            "Epoch 7/30\n",
            "100/100 [==============================] - 20s 195ms/step - loss: 0.3280 - acc: 0.8520 - val_loss: 0.0191 - val_acc: 0.9670\n",
            "Epoch 8/30\n",
            "100/100 [==============================] - 20s 197ms/step - loss: 0.3291 - acc: 0.8550 - val_loss: 0.2459 - val_acc: 0.9630\n",
            "Epoch 9/30\n",
            "100/100 [==============================] - 19s 195ms/step - loss: 0.3085 - acc: 0.8580 - val_loss: 0.0484 - val_acc: 0.9470\n",
            "Epoch 10/30\n",
            "100/100 [==============================] - 20s 196ms/step - loss: 0.3247 - acc: 0.8580 - val_loss: 9.1055e-06 - val_acc: 0.9680\n",
            "Epoch 11/30\n",
            "100/100 [==============================] - 20s 198ms/step - loss: 0.3229 - acc: 0.8505 - val_loss: 0.2637 - val_acc: 0.9680\n",
            "Epoch 12/30\n",
            "100/100 [==============================] - 20s 195ms/step - loss: 0.3151 - acc: 0.8680 - val_loss: 0.0055 - val_acc: 0.9680\n",
            "Epoch 13/30\n",
            "100/100 [==============================] - 20s 196ms/step - loss: 0.2962 - acc: 0.8795 - val_loss: 5.3809e-06 - val_acc: 0.9670\n",
            "Epoch 14/30\n",
            "100/100 [==============================] - 19s 195ms/step - loss: 0.2970 - acc: 0.8735 - val_loss: 0.0699 - val_acc: 0.9650\n",
            "Epoch 15/30\n",
            "100/100 [==============================] - 19s 194ms/step - loss: 0.3039 - acc: 0.8780 - val_loss: 0.0696 - val_acc: 0.9710\n",
            "Epoch 16/30\n",
            "100/100 [==============================] - 20s 195ms/step - loss: 0.2921 - acc: 0.8755 - val_loss: 0.5653 - val_acc: 0.9710\n",
            "Epoch 17/30\n",
            "100/100 [==============================] - 20s 195ms/step - loss: 0.2697 - acc: 0.8865 - val_loss: 0.0081 - val_acc: 0.9680\n",
            "Epoch 18/30\n",
            "100/100 [==============================] - 20s 195ms/step - loss: 0.2969 - acc: 0.8655 - val_loss: 0.0042 - val_acc: 0.9720\n",
            "Epoch 19/30\n",
            "100/100 [==============================] - 19s 195ms/step - loss: 0.2722 - acc: 0.8960 - val_loss: 0.0030 - val_acc: 0.9670\n",
            "Epoch 20/30\n",
            "100/100 [==============================] - 20s 195ms/step - loss: 0.2898 - acc: 0.8740 - val_loss: 0.5420 - val_acc: 0.9650\n",
            "Epoch 21/30\n",
            "100/100 [==============================] - 20s 196ms/step - loss: 0.2822 - acc: 0.8815 - val_loss: 0.3395 - val_acc: 0.9680\n",
            "Epoch 22/30\n",
            "100/100 [==============================] - 19s 195ms/step - loss: 0.2844 - acc: 0.8710 - val_loss: 1.6276e-05 - val_acc: 0.9660\n",
            "Epoch 23/30\n",
            "100/100 [==============================] - 20s 196ms/step - loss: 0.2481 - acc: 0.8995 - val_loss: 0.4206 - val_acc: 0.9670\n",
            "Epoch 24/30\n",
            "100/100 [==============================] - 19s 195ms/step - loss: 0.2508 - acc: 0.8955 - val_loss: 0.1078 - val_acc: 0.9680\n",
            "Epoch 25/30\n",
            "100/100 [==============================] - 19s 194ms/step - loss: 0.2941 - acc: 0.8860 - val_loss: 1.7121e-04 - val_acc: 0.9560\n",
            "Epoch 26/30\n",
            "100/100 [==============================] - 19s 195ms/step - loss: 0.2642 - acc: 0.8855 - val_loss: 0.2811 - val_acc: 0.9720\n",
            "Epoch 27/30\n",
            "100/100 [==============================] - 19s 194ms/step - loss: 0.2520 - acc: 0.8915 - val_loss: 0.4871 - val_acc: 0.9670\n",
            "Epoch 28/30\n",
            "100/100 [==============================] - 19s 195ms/step - loss: 0.2630 - acc: 0.8925 - val_loss: 0.4272 - val_acc: 0.9650\n",
            "Epoch 29/30\n",
            "100/100 [==============================] - 20s 197ms/step - loss: 0.2681 - acc: 0.8870 - val_loss: 0.7892 - val_acc: 0.9730\n",
            "Epoch 30/30\n",
            "100/100 [==============================] - 19s 193ms/step - loss: 0.2353 - acc: 0.9045 - val_loss: 1.3065 - val_acc: 0.9720\n"
          ],
          "name": "stdout"
        }
      ]
    },
    {
      "cell_type": "markdown",
      "metadata": {
        "id": "xqRc_vHKc92U",
        "colab_type": "text"
      },
      "source": [
        "## Display curves of loss and accuracy during training"
      ]
    },
    {
      "cell_type": "code",
      "metadata": {
        "id": "ybWwdzz9bwuQ",
        "colab_type": "code",
        "outputId": "26120fe3-0f3c-4dd4-fa0a-3375b11f8bd9",
        "colab": {
          "base_uri": "https://localhost:8080/",
          "height": 545
        }
      },
      "source": [
        "%matplotlib inline\n",
        "\n",
        "import matplotlib.pyplot as plt\n",
        "\n",
        "acc = history.history['acc']\n",
        "val_acc = history.history['val_acc']\n",
        "\n",
        "loss = history.history['loss']\n",
        "val_loss = history.history['val_loss']\n",
        "\n",
        "epochs = range(1, len(acc) + 1)\n",
        "\n",
        "# training and validation accuracy\n",
        "\n",
        "plt.plot(epochs, acc, 'bo', label='training acc')\n",
        "plt.plot(epochs, val_acc, 'b', label='validation acc')\n",
        "plt.title('training and validation accuracy')\n",
        "plt.legend()\n",
        "\n",
        "plt.figure()\n",
        "\n",
        "# training and validation loss\n",
        "\n",
        "plt.plot(epochs, loss, 'bo', label='training loss')\n",
        "plt.plot(epochs, val_loss, 'b', label='validation loss')\n",
        "plt.title('training and validation loss')\n",
        "plt.legend()\n",
        "\n",
        "plt.show()"
      ],
      "execution_count": 12,
      "outputs": [
        {
          "output_type": "display_data",
          "data": {
            "image/png": "[encoded data removed]",
            "text/plain": [
              "<Figure size 432x288 with 1 Axes>"
            ]
          },
          "metadata": {
            "tags": [],
            "needs_background": "light"
          }
        },
        {
          "output_type": "display_data",
          "data": {
            "image/png": "[encoded data removed]",
            "text/plain": [
              "<Figure size 432x288 with 1 Axes>"
            ]
          },
          "metadata": {
            "tags": [],
            "needs_background": "light"
          }
        }
      ]
    },
    {
      "cell_type": "markdown",
      "metadata": {
        "id": "lOWsxpey8lN0",
        "colab_type": "text"
      },
      "source": [
        "## Fine-tuning"
      ]
    },
    {
      "cell_type": "code",
      "metadata": {
        "id": "PwkVMx8N8qMw",
        "colab_type": "code",
        "colab": {}
      },
      "source": [
        "conv_base.trainable = True\n",
        "\n",
        "set_trainable = False\n",
        "for layer in conv_base.layers:\n",
        "  if layer.name == 'block5_conv1':\n",
        "    set_trainable = True\n",
        "  if set_trainable:\n",
        "    layer.trainable = True\n",
        "  else:\n",
        "    layer.trainable = False"
      ],
      "execution_count": 0,
      "outputs": []
    },
    {
      "cell_type": "code",
      "metadata": {
        "id": "DyN-J7rs9cvo",
        "colab_type": "code",
        "outputId": "bb9d8d47-8ee8-4b47-ad05-02319ba01ed4",
        "colab": {
          "base_uri": "https://localhost:8080/",
          "height": 1000
        }
      },
      "source": [
        "# compile model\n",
        "\n",
        "model.compile(\n",
        "    loss='binary_crossentropy',\n",
        "    #\n",
        "    # choose a smaller learning rate\n",
        "    #\n",
        "    optimizer=optimizers.RMSprop(lr=1e-5), \n",
        "    metrics=['acc'])\n",
        "\n",
        "# train\n",
        "\n",
        "history = model.fit_generator(\n",
        "    train_generator,\n",
        "    steps_per_epoch=100,\n",
        "    epochs=100,\n",
        "    validation_data=validation_generator,\n",
        "    validation_steps=50)"
      ],
      "execution_count": 17,
      "outputs": [
        {
          "output_type": "stream",
          "text": [
            "Epoch 1/100\n",
            "100/100 [==============================] - 24s 236ms/step - loss: 0.1840 - acc: 0.9340 - val_loss: 0.2477 - val_acc: 0.9220\n",
            "Epoch 2/100\n",
            "100/100 [==============================] - 20s 200ms/step - loss: 0.1446 - acc: 0.9475 - val_loss: 0.0617 - val_acc: 0.9220\n",
            "Epoch 3/100\n",
            "100/100 [==============================] - 20s 199ms/step - loss: 0.1589 - acc: 0.9465 - val_loss: 0.6093 - val_acc: 0.9290\n",
            "Epoch 4/100\n",
            "100/100 [==============================] - 20s 199ms/step - loss: 0.1602 - acc: 0.9470 - val_loss: 0.1414 - val_acc: 0.9260\n",
            "Epoch 5/100\n",
            "100/100 [==============================] - 20s 200ms/step - loss: 0.1576 - acc: 0.9410 - val_loss: 0.1706 - val_acc: 0.9320\n",
            "Epoch 6/100\n",
            "100/100 [==============================] - 20s 200ms/step - loss: 0.1615 - acc: 0.9415 - val_loss: 0.0606 - val_acc: 0.9310\n",
            "Epoch 7/100\n",
            "100/100 [==============================] - 20s 199ms/step - loss: 0.1675 - acc: 0.9430 - val_loss: 0.0038 - val_acc: 0.9270\n",
            "Epoch 8/100\n",
            "100/100 [==============================] - 20s 199ms/step - loss: 0.1541 - acc: 0.9385 - val_loss: 0.3723 - val_acc: 0.9310\n",
            "Epoch 9/100\n",
            "100/100 [==============================] - 20s 199ms/step - loss: 0.1531 - acc: 0.9375 - val_loss: 0.1008 - val_acc: 0.9160\n",
            "Epoch 10/100\n",
            "100/100 [==============================] - 20s 198ms/step - loss: 0.1607 - acc: 0.9420 - val_loss: 0.1744 - val_acc: 0.9260\n",
            "Epoch 11/100\n",
            "100/100 [==============================] - 20s 199ms/step - loss: 0.1554 - acc: 0.9485 - val_loss: 0.0880 - val_acc: 0.9270\n",
            "Epoch 12/100\n",
            "100/100 [==============================] - 20s 199ms/step - loss: 0.1687 - acc: 0.9400 - val_loss: 0.0394 - val_acc: 0.9290\n",
            "Epoch 13/100\n",
            "100/100 [==============================] - 20s 199ms/step - loss: 0.1589 - acc: 0.9380 - val_loss: 0.0272 - val_acc: 0.9260\n",
            "Epoch 14/100\n",
            "100/100 [==============================] - 20s 199ms/step - loss: 0.1619 - acc: 0.9325 - val_loss: 0.0771 - val_acc: 0.9250\n",
            "Epoch 15/100\n",
            "100/100 [==============================] - 20s 199ms/step - loss: 0.1543 - acc: 0.9490 - val_loss: 0.5580 - val_acc: 0.9080\n",
            "Epoch 16/100\n",
            "100/100 [==============================] - 20s 198ms/step - loss: 0.1831 - acc: 0.9390 - val_loss: 0.3543 - val_acc: 0.9300\n",
            "Epoch 17/100\n",
            "100/100 [==============================] - 20s 198ms/step - loss: 0.1407 - acc: 0.9535 - val_loss: 0.1653 - val_acc: 0.9280\n",
            "Epoch 18/100\n",
            "100/100 [==============================] - 20s 199ms/step - loss: 0.1588 - acc: 0.9405 - val_loss: 0.2450 - val_acc: 0.9290\n",
            "Epoch 19/100\n",
            "100/100 [==============================] - 20s 199ms/step - loss: 0.1548 - acc: 0.9440 - val_loss: 0.0230 - val_acc: 0.9280\n",
            "Epoch 20/100\n",
            "100/100 [==============================] - 20s 199ms/step - loss: 0.1490 - acc: 0.9445 - val_loss: 0.2475 - val_acc: 0.9190\n",
            "Epoch 21/100\n",
            "100/100 [==============================] - 20s 199ms/step - loss: 0.1514 - acc: 0.9485 - val_loss: 1.7361 - val_acc: 0.9190\n",
            "Epoch 22/100\n",
            "100/100 [==============================] - 20s 198ms/step - loss: 0.1776 - acc: 0.9420 - val_loss: 0.2329 - val_acc: 0.9240\n",
            "Epoch 23/100\n",
            "100/100 [==============================] - 20s 197ms/step - loss: 0.1504 - acc: 0.9375 - val_loss: 0.1851 - val_acc: 0.9270\n",
            "Epoch 24/100\n",
            "100/100 [==============================] - 20s 199ms/step - loss: 0.1685 - acc: 0.9430 - val_loss: 0.2645 - val_acc: 0.9180\n",
            "Epoch 25/100\n",
            "100/100 [==============================] - 20s 198ms/step - loss: 0.1546 - acc: 0.9320 - val_loss: 0.3236 - val_acc: 0.9300\n",
            "Epoch 26/100\n",
            "100/100 [==============================] - 20s 197ms/step - loss: 0.1556 - acc: 0.9475 - val_loss: 0.4121 - val_acc: 0.9330\n",
            "Epoch 27/100\n",
            "100/100 [==============================] - 20s 198ms/step - loss: 0.1466 - acc: 0.9480 - val_loss: 0.0169 - val_acc: 0.9310\n",
            "Epoch 28/100\n",
            "100/100 [==============================] - 20s 196ms/step - loss: 0.1653 - acc: 0.9510 - val_loss: 0.0294 - val_acc: 0.9290\n",
            "Epoch 29/100\n",
            "100/100 [==============================] - 20s 199ms/step - loss: 0.1531 - acc: 0.9440 - val_loss: 0.2922 - val_acc: 0.9300\n",
            "Epoch 30/100\n",
            "100/100 [==============================] - 20s 198ms/step - loss: 0.1634 - acc: 0.9485 - val_loss: 0.2812 - val_acc: 0.9260\n",
            "Epoch 31/100\n",
            "100/100 [==============================] - 20s 198ms/step - loss: 0.1594 - acc: 0.9440 - val_loss: 0.1259 - val_acc: 0.9290\n",
            "Epoch 32/100\n",
            "100/100 [==============================] - 20s 196ms/step - loss: 0.1490 - acc: 0.9385 - val_loss: 0.3542 - val_acc: 0.9190\n",
            "Epoch 33/100\n",
            "100/100 [==============================] - 20s 196ms/step - loss: 0.1150 - acc: 0.9580 - val_loss: 0.0674 - val_acc: 0.9260\n",
            "Epoch 34/100\n",
            "100/100 [==============================] - 20s 197ms/step - loss: 0.1800 - acc: 0.9335 - val_loss: 0.2562 - val_acc: 0.9250\n",
            "Epoch 35/100\n",
            "100/100 [==============================] - 20s 196ms/step - loss: 0.1892 - acc: 0.9365 - val_loss: 0.8274 - val_acc: 0.9270\n",
            "Epoch 36/100\n",
            "100/100 [==============================] - 20s 197ms/step - loss: 0.1693 - acc: 0.9380 - val_loss: 0.0154 - val_acc: 0.9240\n",
            "Epoch 37/100\n",
            "100/100 [==============================] - 20s 197ms/step - loss: 0.1471 - acc: 0.9480 - val_loss: 0.0836 - val_acc: 0.9280\n",
            "Epoch 38/100\n",
            "100/100 [==============================] - 20s 196ms/step - loss: 0.1836 - acc: 0.9390 - val_loss: 0.0390 - val_acc: 0.9270\n",
            "Epoch 39/100\n",
            "100/100 [==============================] - 19s 195ms/step - loss: 0.1540 - acc: 0.9400 - val_loss: 0.7232 - val_acc: 0.9260\n",
            "Epoch 40/100\n",
            "100/100 [==============================] - 20s 196ms/step - loss: 0.1742 - acc: 0.9345 - val_loss: 0.9226 - val_acc: 0.9220\n",
            "Epoch 41/100\n",
            "100/100 [==============================] - 19s 194ms/step - loss: 0.1599 - acc: 0.9445 - val_loss: 0.1049 - val_acc: 0.9240\n",
            "Epoch 42/100\n",
            "100/100 [==============================] - 19s 194ms/step - loss: 0.1609 - acc: 0.9460 - val_loss: 0.1365 - val_acc: 0.9240\n",
            "Epoch 43/100\n",
            "100/100 [==============================] - 19s 194ms/step - loss: 0.1597 - acc: 0.9365 - val_loss: 0.0877 - val_acc: 0.9230\n",
            "Epoch 44/100\n",
            "100/100 [==============================] - 19s 195ms/step - loss: 0.1286 - acc: 0.9585 - val_loss: 0.0234 - val_acc: 0.9250\n",
            "Epoch 45/100\n",
            "100/100 [==============================] - 19s 194ms/step - loss: 0.1755 - acc: 0.9280 - val_loss: 0.0269 - val_acc: 0.9200\n",
            "Epoch 46/100\n",
            "100/100 [==============================] - 20s 195ms/step - loss: 0.1555 - acc: 0.9460 - val_loss: 0.6271 - val_acc: 0.9210\n",
            "Epoch 47/100\n",
            "100/100 [==============================] - 19s 193ms/step - loss: 0.1498 - acc: 0.9410 - val_loss: 0.0685 - val_acc: 0.9210\n",
            "Epoch 48/100\n",
            "100/100 [==============================] - 20s 195ms/step - loss: 0.1379 - acc: 0.9530 - val_loss: 0.0480 - val_acc: 0.9300\n",
            "Epoch 49/100\n",
            "100/100 [==============================] - 19s 195ms/step - loss: 0.1591 - acc: 0.9490 - val_loss: 0.5745 - val_acc: 0.9240\n",
            "Epoch 50/100\n",
            "100/100 [==============================] - 19s 194ms/step - loss: 0.1590 - acc: 0.9415 - val_loss: 0.1119 - val_acc: 0.9290\n",
            "Epoch 51/100\n",
            "100/100 [==============================] - 19s 194ms/step - loss: 0.1684 - acc: 0.9375 - val_loss: 0.1283 - val_acc: 0.9110\n",
            "Epoch 52/100\n",
            "100/100 [==============================] - 19s 194ms/step - loss: 0.1612 - acc: 0.9430 - val_loss: 0.2533 - val_acc: 0.9280\n",
            "Epoch 53/100\n",
            "100/100 [==============================] - 19s 194ms/step - loss: 0.1296 - acc: 0.9510 - val_loss: 0.3952 - val_acc: 0.9260\n",
            "Epoch 54/100\n",
            "100/100 [==============================] - 19s 193ms/step - loss: 0.1487 - acc: 0.9430 - val_loss: 0.1343 - val_acc: 0.9270\n",
            "Epoch 55/100\n",
            "100/100 [==============================] - 19s 192ms/step - loss: 0.1618 - acc: 0.9425 - val_loss: 0.0438 - val_acc: 0.9220\n",
            "Epoch 56/100\n",
            "100/100 [==============================] - 19s 191ms/step - loss: 0.1504 - acc: 0.9470 - val_loss: 0.3475 - val_acc: 0.9270\n",
            "Epoch 57/100\n",
            "100/100 [==============================] - 19s 191ms/step - loss: 0.1413 - acc: 0.9515 - val_loss: 0.1923 - val_acc: 0.9280\n",
            "Epoch 58/100\n",
            "100/100 [==============================] - 19s 192ms/step - loss: 0.1568 - acc: 0.9420 - val_loss: 0.1167 - val_acc: 0.9230\n",
            "Epoch 59/100\n",
            "100/100 [==============================] - 19s 191ms/step - loss: 0.1518 - acc: 0.9470 - val_loss: 0.4423 - val_acc: 0.9190\n",
            "Epoch 60/100\n",
            "100/100 [==============================] - 19s 190ms/step - loss: 0.1480 - acc: 0.9470 - val_loss: 0.4939 - val_acc: 0.9190\n",
            "Epoch 61/100\n",
            "100/100 [==============================] - 19s 190ms/step - loss: 0.1342 - acc: 0.9475 - val_loss: 5.0430e-04 - val_acc: 0.9290\n",
            "Epoch 62/100\n",
            "100/100 [==============================] - 19s 191ms/step - loss: 0.1469 - acc: 0.9470 - val_loss: 0.0748 - val_acc: 0.9230\n",
            "Epoch 63/100\n",
            "100/100 [==============================] - 19s 191ms/step - loss: 0.1309 - acc: 0.9435 - val_loss: 0.1167 - val_acc: 0.9280\n",
            "Epoch 64/100\n",
            "100/100 [==============================] - 19s 192ms/step - loss: 0.1563 - acc: 0.9445 - val_loss: 0.1223 - val_acc: 0.9220\n",
            "Epoch 65/100\n",
            "100/100 [==============================] - 19s 191ms/step - loss: 0.1296 - acc: 0.9535 - val_loss: 0.0199 - val_acc: 0.9180\n",
            "Epoch 66/100\n",
            "100/100 [==============================] - 19s 192ms/step - loss: 0.1581 - acc: 0.9510 - val_loss: 0.5886 - val_acc: 0.9210\n",
            "Epoch 67/100\n",
            "100/100 [==============================] - 19s 191ms/step - loss: 0.1313 - acc: 0.9565 - val_loss: 0.0416 - val_acc: 0.9180\n",
            "Epoch 68/100\n",
            "100/100 [==============================] - 20s 196ms/step - loss: 0.1458 - acc: 0.9480 - val_loss: 0.4902 - val_acc: 0.9300\n",
            "Epoch 69/100\n",
            "100/100 [==============================] - 21s 206ms/step - loss: 0.1494 - acc: 0.9475 - val_loss: 0.5875 - val_acc: 0.9210\n",
            "Epoch 70/100\n",
            "100/100 [==============================] - 20s 202ms/step - loss: 0.1605 - acc: 0.9415 - val_loss: 0.4126 - val_acc: 0.9230\n",
            "Epoch 71/100\n",
            "100/100 [==============================] - 21s 205ms/step - loss: 0.1573 - acc: 0.9445 - val_loss: 0.1077 - val_acc: 0.9280\n",
            "Epoch 72/100\n",
            "100/100 [==============================] - 20s 201ms/step - loss: 0.1571 - acc: 0.9410 - val_loss: 0.8473 - val_acc: 0.9240\n",
            "Epoch 73/100\n",
            "100/100 [==============================] - 20s 198ms/step - loss: 0.1390 - acc: 0.9490 - val_loss: 0.6004 - val_acc: 0.9280\n",
            "Epoch 74/100\n",
            "100/100 [==============================] - 20s 197ms/step - loss: 0.1649 - acc: 0.9385 - val_loss: 0.1160 - val_acc: 0.9290\n",
            "Epoch 75/100\n",
            "100/100 [==============================] - 20s 196ms/step - loss: 0.1359 - acc: 0.9465 - val_loss: 0.0139 - val_acc: 0.9260\n",
            "Epoch 76/100\n",
            "100/100 [==============================] - 20s 196ms/step - loss: 0.1482 - acc: 0.9425 - val_loss: 0.4724 - val_acc: 0.9200\n",
            "Epoch 77/100\n",
            "100/100 [==============================] - 20s 196ms/step - loss: 0.1584 - acc: 0.9445 - val_loss: 0.0954 - val_acc: 0.9260\n",
            "Epoch 78/100\n",
            "100/100 [==============================] - 20s 196ms/step - loss: 0.1510 - acc: 0.9395 - val_loss: 0.6008 - val_acc: 0.9290\n",
            "Epoch 79/100\n",
            "100/100 [==============================] - 20s 195ms/step - loss: 0.1568 - acc: 0.9430 - val_loss: 0.0847 - val_acc: 0.9250\n",
            "Epoch 80/100\n",
            "100/100 [==============================] - 19s 194ms/step - loss: 0.1532 - acc: 0.9390 - val_loss: 0.1098 - val_acc: 0.9290\n",
            "Epoch 81/100\n",
            "100/100 [==============================] - 20s 196ms/step - loss: 0.1539 - acc: 0.9400 - val_loss: 0.2317 - val_acc: 0.9290\n",
            "Epoch 82/100\n",
            "100/100 [==============================] - 19s 194ms/step - loss: 0.1361 - acc: 0.9515 - val_loss: 0.3393 - val_acc: 0.9240\n",
            "Epoch 83/100\n",
            "100/100 [==============================] - 19s 193ms/step - loss: 0.1292 - acc: 0.9500 - val_loss: 0.0138 - val_acc: 0.9280\n",
            "Epoch 84/100\n",
            "100/100 [==============================] - 19s 194ms/step - loss: 0.1661 - acc: 0.9440 - val_loss: 1.1463 - val_acc: 0.9270\n",
            "Epoch 85/100\n",
            "100/100 [==============================] - 19s 194ms/step - loss: 0.1608 - acc: 0.9465 - val_loss: 0.0809 - val_acc: 0.9280\n",
            "Epoch 86/100\n",
            "100/100 [==============================] - 19s 194ms/step - loss: 0.1384 - acc: 0.9530 - val_loss: 0.0765 - val_acc: 0.9190\n",
            "Epoch 87/100\n",
            "100/100 [==============================] - 20s 195ms/step - loss: 0.1223 - acc: 0.9565 - val_loss: 0.0360 - val_acc: 0.9290\n",
            "Epoch 88/100\n",
            "100/100 [==============================] - 19s 194ms/step - loss: 0.1537 - acc: 0.9440 - val_loss: 0.3075 - val_acc: 0.9230\n",
            "Epoch 89/100\n",
            "100/100 [==============================] - 19s 194ms/step - loss: 0.1360 - acc: 0.9505 - val_loss: 0.0296 - val_acc: 0.9150\n",
            "Epoch 90/100\n",
            "100/100 [==============================] - 19s 195ms/step - loss: 0.1478 - acc: 0.9535 - val_loss: 0.3281 - val_acc: 0.9260\n",
            "Epoch 91/100\n",
            "100/100 [==============================] - 19s 194ms/step - loss: 0.1674 - acc: 0.9425 - val_loss: 0.1229 - val_acc: 0.9210\n",
            "Epoch 92/100\n",
            "100/100 [==============================] - 19s 195ms/step - loss: 0.1203 - acc: 0.9600 - val_loss: 0.5323 - val_acc: 0.9320\n",
            "Epoch 93/100\n",
            "100/100 [==============================] - 19s 195ms/step - loss: 0.1328 - acc: 0.9495 - val_loss: 0.1115 - val_acc: 0.9250\n",
            "Epoch 94/100\n",
            "100/100 [==============================] - 19s 195ms/step - loss: 0.1476 - acc: 0.9490 - val_loss: 0.2288 - val_acc: 0.9250\n",
            "Epoch 95/100\n",
            "100/100 [==============================] - 19s 195ms/step - loss: 0.1430 - acc: 0.9515 - val_loss: 0.4238 - val_acc: 0.9260\n",
            "Epoch 96/100\n",
            "100/100 [==============================] - 19s 194ms/step - loss: 0.1471 - acc: 0.9415 - val_loss: 0.0268 - val_acc: 0.9270\n",
            "Epoch 97/100\n",
            "100/100 [==============================] - 19s 194ms/step - loss: 0.1433 - acc: 0.9515 - val_loss: 0.6890 - val_acc: 0.9260\n",
            "Epoch 98/100\n",
            "100/100 [==============================] - 20s 195ms/step - loss: 0.1255 - acc: 0.9480 - val_loss: 0.0336 - val_acc: 0.9280\n",
            "Epoch 99/100\n",
            "100/100 [==============================] - 19s 195ms/step - loss: 0.1450 - acc: 0.9475 - val_loss: 0.5074 - val_acc: 0.9260\n",
            "Epoch 100/100\n",
            "100/100 [==============================] - 20s 198ms/step - loss: 0.1705 - acc: 0.9345 - val_loss: 0.6166 - val_acc: 0.9220\n"
          ],
          "name": "stdout"
        }
      ]
    },
    {
      "cell_type": "markdown",
      "metadata": {
        "id": "eVBQgh5M-Rtz",
        "colab_type": "text"
      },
      "source": [
        "## Display learning curves during fine-tuning"
      ]
    },
    {
      "cell_type": "code",
      "metadata": {
        "id": "mbkIw7Ie-NP4",
        "colab_type": "code",
        "outputId": "87251184-a4af-418a-df07-92bebb7dae6a",
        "colab": {
          "base_uri": "https://localhost:8080/",
          "height": 545
        }
      },
      "source": [
        "%matplotlib inline\n",
        "\n",
        "import matplotlib.pyplot as plt\n",
        "\n",
        "acc = history.history['acc']\n",
        "val_acc = history.history['val_acc']\n",
        "\n",
        "loss = history.history['loss']\n",
        "val_loss = history.history['val_loss']\n",
        "\n",
        "epochs = range(1, len(acc) + 1)\n",
        "\n",
        "# training and validation accuracy\n",
        "\n",
        "plt.plot(epochs, acc, 'bo', label='training acc')\n",
        "plt.plot(epochs, val_acc, 'b', label='validation acc')\n",
        "plt.title('training and validation accuracy')\n",
        "plt.legend()\n",
        "\n",
        "plt.figure()\n",
        "\n",
        "# training and validation loss\n",
        "\n",
        "plt.plot(epochs, loss, 'bo', label='training loss')\n",
        "plt.plot(epochs, val_loss, 'b', label='validation loss')\n",
        "plt.title('training and validation loss')\n",
        "plt.legend()\n",
        "\n",
        "plt.show()"
      ],
      "execution_count": 18,
      "outputs": [
        {
          "output_type": "display_data",
          "data": {
            "image/png": "[encoded data removed]",
            "text/plain": [
              "<Figure size 432x288 with 1 Axes>"
            ]
          },
          "metadata": {
            "tags": [],
            "needs_background": "light"
          }
        },
        {
          "output_type": "display_data",
          "data": {
            "image/png": "[encoded data removed]",
            "text/plain": [
              "<Figure size 432x288 with 1 Axes>"
            ]
          },
          "metadata": {
            "tags": [],
            "needs_background": "light"
          }
        }
      ]
    },
    {
      "cell_type": "markdown",
      "metadata": {
        "id": "he3Nw6TOJwjx",
        "colab_type": "text"
      },
      "source": [
        "## Print out validation loss and accuracy"
      ]
    },
    {
      "cell_type": "code",
      "metadata": {
        "id": "SVQtrk7uJdhl",
        "colab_type": "code",
        "colab": {}
      },
      "source": [
        "val_loss, val_acc = model.evaluate_generator(validation_generator, steps=50)"
      ],
      "execution_count": 0,
      "outputs": []
    },
    {
      "cell_type": "code",
      "metadata": {
        "id": "HpdddLi1SUMe",
        "colab_type": "code",
        "outputId": "441c8812-21f9-4bc5-bce1-426585aa5932",
        "colab": {
          "base_uri": "https://localhost:8080/",
          "height": 51
        }
      },
      "source": [
        "print(\"Validation loss:\", val_loss)\n",
        "print(\"Validation accuracy:\", val_acc)"
      ],
      "execution_count": 20,
      "outputs": [
        {
          "output_type": "stream",
          "text": [
            "Validation loss: 0.616578221321106\n",
            "Validation accuracy: 0.921999990940094\n"
          ],
          "name": "stdout"
        }
      ]
    }
  ]
}